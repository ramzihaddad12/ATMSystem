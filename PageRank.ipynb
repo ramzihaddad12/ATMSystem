{
  "nbformat": 4,
  "nbformat_minor": 0,
  "metadata": {
    "colab": {
      "name": "PageRank.ipynb",
      "provenance": [],
      "include_colab_link": true
    },
    "kernelspec": {
      "name": "python3",
      "display_name": "Python 3"
    },
    "language_info": {
      "name": "python"
    }
  },
  "cells": [
    {
      "cell_type": "markdown",
      "metadata": {
        "id": "view-in-github",
        "colab_type": "text"
      },
      "source": [
        "<a href=\"https://colab.research.google.com/github/ramzihaddad12/ATMSystem/blob/main/PageRank.ipynb\" target=\"_parent\"><img src=\"https://colab.research.google.com/assets/colab-badge.svg\" alt=\"Open In Colab\"/></a>"
      ]
    },
    {
      "cell_type": "markdown",
      "metadata": {
        "id": "Q2QKFIlR6HCY"
      },
      "source": [
        "# PageRank\n",
        "\n",
        "In this assignment, you will compute PageRank on a collection of 469,235 web sites using the iterative version of the PageRank algorithm described in class for sparse graphs (NOT the power method with explicit matrix multiplication).\n",
        "\n",
        "Consider the following directed graph:\n",
        "\n",
        "![A directed link graph](https://ccs.neu.edu/home/dasmith/courses/cs6200/pagerank.jpg)\n",
        "\n",
        "We can represent this graph as a collection of nodes, here, ordered pairs of node index and node name:"
      ]
    },
    {
      "cell_type": "code",
      "metadata": {
        "id": "4D_Mxj5pXKPl"
      },
      "source": [
        "small_nodes = [(0, 'A'),\n",
        "              (1, 'B'),\n",
        "              (2, 'C'),\n",
        "              (3, 'D'),\n",
        "              (4, 'E'),\n",
        "              (5, 'F')]"
      ],
      "execution_count": 7,
      "outputs": []
    },
    {
      "cell_type": "markdown",
      "metadata": {
        "id": "RTF3JKtTYxiZ"
      },
      "source": [
        "and a collection of directed links, i.e., ordered pairs from source to target:"
      ]
    },
    {
      "cell_type": "code",
      "metadata": {
        "id": "-i0V5ueOYDDN"
      },
      "source": [
        "small_edges = [\n",
        "  (0, 1),\n",
        "  (0, 2),\n",
        "  (0, 5),\n",
        "  (1, 2),\n",
        "  (1, 3),\n",
        "  (1, 4),\n",
        "  (1, 5),\n",
        "  (2, 3),\n",
        "  (2, 4),\n",
        "  (3, 0),\n",
        "  (3, 2),\n",
        "  (3, 4),\n",
        "  (3, 5),\n",
        "  (4, 0),\n",
        "  (5, 0),\n",
        "  (5, 1),\n",
        "  (5, 4)\n",
        "]"
      ],
      "execution_count": 8,
      "outputs": []
    },
    {
      "cell_type": "markdown",
      "metadata": {
        "id": "kBVDeszXY4B_"
      },
      "source": [
        "We use integer identifiers for the nodes for efficiency. In most real-world collections of hyperlinks, unlike this example, not every page will have in-links, nor will every page have out-links."
      ]
    },
    {
      "cell_type": "markdown",
      "metadata": {
        "id": "QPNsTGSsEwMX"
      },
      "source": [
        "## First Implementation and Test\n",
        "\n",
        "\\[10 points\\] Implement the iterative PageRank algorithm we discussed in class. Test your code on the six-node example using the input representation given above.  Be sure that your code handles pages that have no in-links or out-links properly.  (You may wish to test on a few such examples.) In later parts of this assignment, depending on how you store the data, it may be convenient to use iterators rather than storing the data in memory."
      ]
    },
    {
      "cell_type": "code",
      "metadata": {
        "id": "NMu_WaDA55sk",
        "colab": {
          "base_uri": "https://localhost:8080/"
        },
        "outputId": "982595f2-8113-4ae0-ff05-e7375818e91e"
      },
      "source": [
        "# TODO: Implement PageRank, given nodes and edges, to start with a uniform\n",
        "# distribution over nodes, run a fixed number of iterations, and\n",
        "# return a distribution over nodes.\n",
        "\n",
        "# function to get the incoming nodes and the number of outgoing edges for each node\n",
        "def get_incoming_list_and_outgoing_link_count(nodes, edges):\n",
        "  incoming = {} # dictionary to store list of incoming nodes for each node \n",
        "  outgoing = {} # dictionary to store count of outgoing edges for each node \n",
        "  for edge in edges:\n",
        "    u, v = edge\n",
        "    incoming_list_for_v = incoming.get(v, [])\n",
        "    incoming_list_for_v.append(u)\n",
        "    incoming[v] = incoming_list_for_v\n",
        "\n",
        "    outgoing_count = outgoing.get(u, 0)\n",
        "    outgoing[u] = outgoing_count + 1\n",
        "\n",
        "  return incoming, outgoing\n",
        "\n",
        "# function to transform nodes list to dictionary \n",
        "def list_nodes_to_dict(nodes):\n",
        "  dict_for_nodes = {}\n",
        "  for node in nodes:\n",
        "    num = node[0]\n",
        "    letter = node[1]\n",
        "\n",
        "    dict_for_nodes[num] = letter\n",
        "\n",
        "  return dict_for_nodes\n",
        "\n",
        "# function performing iterative pagerank\n",
        "def page_rank_fixed_iter(nodes, edges, iterations=10):\n",
        "  lambda_damping = 0.85\n",
        "  num_of_nodes = len(nodes)\n",
        "  incoming, outgoing_count = get_incoming_list_and_outgoing_link_count(nodes, edges)\n",
        "  prev_page_rank = [None] * num_of_nodes\n",
        "  curr_page_rank = [None] * num_of_nodes\n",
        "\n",
        "  # initial setting (all nodes equally likely to being visited)\n",
        "  for node in nodes:\n",
        "    num_node = node[0]\n",
        "    prev_page_rank[num_node] = 1 / num_of_nodes \n",
        "\n",
        "  for i in range(iterations):\n",
        "\n",
        "    # finding the pagerank total for nodes/pages that have no outgoing links \n",
        "    no_outgoing_links_term = 0\n",
        "    for node in nodes:\n",
        "      num_node = node[0]\n",
        "      if num_node not in outgoing_count:\n",
        "        no_outgoing_links_term += lambda_damping * prev_page_rank[num_node] / num_of_nodes\n",
        "    \n",
        "    # finding the page rank for nodes/pages that have outgoing links \n",
        "    for node in nodes:\n",
        "      num_node = node[0]\n",
        "      curr_page_rank[num_node] = ((1 - lambda_damping) / num_of_nodes) + no_outgoing_links_term\n",
        "\n",
        "      if num_node in incoming:\n",
        "        incoming_nodes = incoming.get(num_node)\n",
        "\n",
        "        for incoming_node in incoming_nodes:\n",
        "          curr_page_rank[num_node] += lambda_damping * prev_page_rank[incoming_node] / outgoing_count[incoming_node]\n",
        "    \n",
        "    # refresh iteration\n",
        "    prev_page_rank = curr_page_rank\n",
        "\n",
        "  # prettify the result\n",
        "  result = []\n",
        "  dict_for_nodes = list_nodes_to_dict(nodes)\n",
        "  for i in range(len(curr_page_rank)):\n",
        "    result.append((i, dict_for_nodes[i], curr_page_rank[i]))\n",
        "\n",
        "  return result\n",
        "\n",
        "# Output PageRank on the toy graph at various points.\n",
        "# Make sure your output has node number, name, and PageRank value.\n",
        "page_rank_fixed_iter(small_nodes, small_edges, 1)\n",
        "page_rank_fixed_iter(small_nodes, small_edges, 10)\n",
        "page_rank_fixed_iter(small_nodes, small_edges, 100)"
      ],
      "execution_count": 22,
      "outputs": [
        {
          "output_type": "execute_result",
          "data": {
            "text/plain": [
              "[(0, 'A', 0.2521271053751956),\n",
              " (1, 'B', 0.1393061853185386),\n",
              " (2, 'C', 0.1513064898667053),\n",
              " (3, 'D', 0.11890782257353921),\n",
              " (4, 'E', 0.18704590699931614),\n",
              " (5, 'F', 0.1513064898667053)]"
            ]
          },
          "metadata": {},
          "execution_count": 22
        }
      ]
    },
    {
      "cell_type": "markdown",
      "metadata": {
        "id": "y4duRjzABB9n"
      },
      "source": [
        "## PageRank on Web Crawl Data\n",
        "\n",
        "\\[20 points\\] Download and unpack a list of `.edu` websites and the links among them from the [Common Crawl](https://commoncrawl.org/2017/05/hostgraph-2017-feb-mar-apr-crawls/) open-source web crawl. For the sake of brevity, the data record links among websites, not web pages. The information for nodes and links is the same as the toy example above."
      ]
    },
    {
      "cell_type": "code",
      "metadata": {
        "id": "v6EDDdTQCd3y",
        "colab": {
          "base_uri": "https://localhost:8080/"
        },
        "outputId": "333ddaae-4d82-43d6-901a-521e0e2a57de"
      },
      "source": [
        "# If you're running on a machine (e.g., Windows) that doesn't have wget or gzip,\n",
        "# feel free to comment this out and use a different set of commands to load\n",
        "# the data.\n",
        "!wget https://ccs.neu.edu/home/dasmith/courses/cs6200/vertices-edu.txt.gz\n",
        "!gzip -df vertices-edu.txt.gz\n",
        "!wget https://ccs.neu.edu/home/dasmith/courses/cs6200/edges-edu.txt.gz\n",
        "!gzip -df edges-edu.txt.gz"
      ],
      "execution_count": 9,
      "outputs": [
        {
          "output_type": "stream",
          "name": "stdout",
          "text": [
            "--2022-10-07 23:01:22--  https://ccs.neu.edu/home/dasmith/courses/cs6200/vertices-edu.txt.gz\n",
            "Resolving ccs.neu.edu (ccs.neu.edu)... 52.70.229.197\n",
            "Connecting to ccs.neu.edu (ccs.neu.edu)|52.70.229.197|:443... connected.\n",
            "HTTP request sent, awaiting response... 200 OK\n",
            "Length: 3703486 (3.5M) [application/x-gzip]\n",
            "Saving to: ‘vertices-edu.txt.gz’\n",
            "\n",
            "vertices-edu.txt.gz 100%[===================>]   3.53M  20.7MB/s    in 0.2s    \n",
            "\n",
            "2022-10-07 23:01:22 (20.7 MB/s) - ‘vertices-edu.txt.gz’ saved [3703486/3703486]\n",
            "\n",
            "--2022-10-07 23:01:23--  https://ccs.neu.edu/home/dasmith/courses/cs6200/edges-edu.txt.gz\n",
            "Resolving ccs.neu.edu (ccs.neu.edu)... 52.70.229.197\n",
            "Connecting to ccs.neu.edu (ccs.neu.edu)|52.70.229.197|:443... connected.\n",
            "HTTP request sent, awaiting response... 200 OK\n",
            "Length: 12829526 (12M) [application/x-gzip]\n",
            "Saving to: ‘edges-edu.txt.gz’\n",
            "\n",
            "edges-edu.txt.gz    100%[===================>]  12.23M  57.9MB/s    in 0.2s    \n",
            "\n",
            "2022-10-07 23:01:23 (57.9 MB/s) - ‘edges-edu.txt.gz’ saved [12829526/12829526]\n",
            "\n"
          ]
        }
      ]
    },
    {
      "cell_type": "markdown",
      "metadata": {
        "id": "CW4yp1gPUwzb"
      },
      "source": [
        "There should now be files `vertices-edu.txt` and `edges-edu.txt`."
      ]
    },
    {
      "cell_type": "code",
      "metadata": {
        "id": "ly1t9fyjK7eC",
        "colab": {
          "base_uri": "https://localhost:8080/"
        },
        "outputId": "cdf6287d-b910-4d5e-ff72-577ad9bfd8b7"
      },
      "source": [
        "# TODO: Process the raw data into the same format as the simple graph.\n",
        "# You may create lists or iterators.\n",
        "from google.colab import drive\n",
        "drive.mount('/content/drive', force_remount=True)\n",
        "            \n",
        "EDGES_FILE_NAME = '/content/edges-edu.txt'\n",
        "VERTICES_FILE_NAME = '/content/vertices-edu.txt'\n",
        "\n",
        "edges = []\n",
        "nodes = []\n",
        "with open(EDGES_FILE_NAME) as f:\n",
        "    edges_list = list(f)\n",
        "with open(VERTICES_FILE_NAME) as f:\n",
        "    nodes_list = list(f)\n",
        "    \n",
        "for edge_list in edges_list:\n",
        "    split_line = edge_list.split()\n",
        "    edges.append((int(split_line[0]), int(split_line[1])))\n",
        "\n",
        "for node_list in nodes_list:\n",
        "    split_line = node_list.split()\n",
        "    nodes.append((int(split_line[0]), split_line[1]))\n"
      ],
      "execution_count": 42,
      "outputs": [
        {
          "output_type": "stream",
          "name": "stdout",
          "text": [
            "Mounted at /content/drive\n",
            "[(1, 'edu.06hxbt'), (2, 'edu.082ifc'), (3, 'edu.083mjs'), (4, 'edu.09xzrr'), (5, 'edu.0aoqqj'), (6, 'edu.0ax4el'), (7, 'edu.0c5fez'), (8, 'edu.0cosn2'), (9, 'edu.0dcdp8')]\n"
          ]
        }
      ]
    },
    {
      "cell_type": "markdown",
      "metadata": {
        "id": "0WMf5L5VEqZb"
      },
      "source": [
        "Refine your implementation of PageRank to test for numerical convergence. Specificially, at each iteration, calculate the [perplexity](https://en.wikipedia.org/wiki/Perplexity) of the PageRank distribution, where perplexity is defined as 2 raised to the [Shannon entropy](https://en.wikipedia.org/wiki/Entropy_(information_theory)) of the PageRank distribution, i.e., $2^{H(PR)}$. (Recall the definition of entropy from our discussion of data compression.) The maximum perplexity of a PageRank distribution will therefore be the number of nodes in the graph.\n",
        "\n",
        "At each iteration, check the _change_ in perplexity. If the change is less than some threshold, you can stop.\n"
      ]
    },
    {
      "cell_type": "code",
      "metadata": {
        "id": "wsL0yQKvKqAC"
      },
      "source": [
        "# TODO: Implement convergence testing in PageRank\n",
        "# If you choose, you can share some subroutines with your first version.\n",
        "# Print the change in perplexity at each iteration.\n",
        "\n",
        "def page_rank(nodes, edges, threshold=1):\n",
        "  return []\n",
        "\n",
        "# Run until perplexity changes by less than 1\n",
        "PR = page_rank(nodes, edges, 1)"
      ],
      "execution_count": null,
      "outputs": []
    },
    {
      "cell_type": "markdown",
      "metadata": {
        "id": "rcncY2QHNl0M"
      },
      "source": [
        "## Link Analysis\n",
        "\n",
        "\\[20 points\\] In this final section, you will compute some properties of the web-site graph you downloaded.\n",
        "\n",
        "First, consider the _in-link count_ of a website, simply the number of web-sites pointing to it (including self-links). "
      ]
    },
    {
      "cell_type": "code",
      "metadata": {
        "id": "a_FyPlLSO2bu"
      },
      "source": [
        "# TODO: List the document ID, domain name, and in-link count of the 60 websites with the highest in-link count"
      ],
      "execution_count": null,
      "outputs": []
    },
    {
      "cell_type": "markdown",
      "metadata": {
        "id": "5uSlQEtmPTTA"
      },
      "source": [
        "Then, use the PageRank values compute by your second implementation. Note that some websites will have both a high in-link count and PageRank."
      ]
    },
    {
      "cell_type": "code",
      "metadata": {
        "id": "nwcci2kdPlMR"
      },
      "source": [
        "# TODO: List the document ID, domain name, and PageRank of the 60 websites with the highest PageRank."
      ],
      "execution_count": null,
      "outputs": []
    },
    {
      "cell_type": "markdown",
      "metadata": {
        "id": "SxODBxL_Pyy2"
      },
      "source": [
        "Finally, compute some summary statistics on this dataset."
      ]
    },
    {
      "cell_type": "code",
      "metadata": {
        "id": "oD4bq6AyQIsU"
      },
      "source": [
        "# TODO: Compute:\n",
        "# - the proportion of websites with no in-links (i.e., source nodes);\n",
        "\n",
        "# - the proportion of websites with no out-links (i.e., sink nodes);\n",
        "\n",
        "# - the proportion of websites whose PageRank is higher than the initial uniform distribution.\n"
      ],
      "execution_count": null,
      "outputs": []
    }
  ]
}